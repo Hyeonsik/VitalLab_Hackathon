{
 "cells": [
  {
   "cell_type": "markdown",
   "id": "a72401bd",
   "metadata": {},
   "source": [
    "# Create a Base64-Encoded Download Link"
   ]
  },
  {
   "cell_type": "code",
   "execution_count": null,
   "id": "89475d36",
   "metadata": {},
   "outputs": [],
   "source": [
    "import base64\n",
    "from IPython.display import HTML\n",
    "\n",
    "def create_download_link(filepath, filename):\n",
    "    \"\"\"\n",
    "    Generates a link to download a file from the server.\n",
    "    \n",
    "    filepath: The path to the file on the server.\n",
    "    filename: The desired name for the downloaded file.\n",
    "    \"\"\"\n",
    "    with open(filepath, \"rb\") as f:\n",
    "        # Encode the file content in base64\n",
    "        b64 = base64.b64encode(f.read()).decode()\n",
    "\n",
    "    # Create the HTML download link\n",
    "    href = f'<a href=\"data:file/octet-stream;base64,{b64}\" download=\"{filename}\">Click here to download {filename}</a>'\n",
    "    return HTML(href)\n",
    "\n",
    "# --- USAGE ---\n",
    "# 1. Define the full path to your file on the server\n",
    "# Use !pwd or os.getcwd() to find your current directory if you are unsure.\n",
    "file_path_on_server = '/home/jovyan/work/datasets/inspire_260k/1.3/diagnosis.csv'\n",
    "\n",
    "# 2. Give the file a name for when you download it\n",
    "download_as_filename = 'diagnosis_data.csv'\n",
    "\n",
    "# 3. Create and display the link\n",
    "create_download_link(file_path_on_server, download_as_filename)"
   ]
  },
  {
   "cell_type": "code",
   "execution_count": null,
   "id": "ce1b4ea5",
   "metadata": {},
   "outputs": [],
   "source": [
    "import os\n",
    "\n",
    "fdir = 'datasets/icu-cardiac-arrest/1.0'\n",
    "\n",
    "download_dir = ''\n",
    "for file in os.listdir(fdir):\n",
    "    fpath = os.path.join(fdir, file)\n",
    "    create_download_link(fpath, file)"
   ]
  }
 ],
 "metadata": {
  "language_info": {
   "name": "python"
  }
 },
 "nbformat": 4,
 "nbformat_minor": 5
}
